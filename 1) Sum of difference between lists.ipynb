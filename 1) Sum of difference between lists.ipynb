{
 "cells": [
  {
   "cell_type": "markdown",
   "id": "ebcc25a1",
   "metadata": {},
   "source": [
    "**Assignment 1:** \n",
    "\n",
    "Find sum of element wise difference between two lists using Python (Level : 0 )\n",
    "Instructions:\n",
    "1. While calculating the difference use bigger number first then smaller number next, if both are equal you can use any. \n",
    "2. Do not use abs() method to make numbers positive, Follow first instruction. \n",
    "3. This is Level 0 question (Very Easy/Basic)\n",
    "\n",
    "Ex: Given list1 = [5,12,5,6,2,6,7,8] and list2 = [6,4,3,8,1,2,4,6], answer should be (6-5)+(12-4)+(5-3)+(8-6)+(2-1)+(6-2)+(7-4)+(8-6) = 23\n"
   ]
  },
  {
   "cell_type": "code",
   "execution_count": 3,
   "id": "9f5ddad9",
   "metadata": {},
   "outputs": [
    {
     "name": "stdout",
     "output_type": "stream",
     "text": [
      "23\n"
     ]
    }
   ],
   "source": [
    "# Assignment 1\n",
    "\n",
    "list1 = [5,12,5,6,2,6,7,8]\n",
    "list2 = [6,4,3,8,1,2,4,6]\n",
    "sum_of_differnce = 0\n",
    "for i in range(len(list1)):\n",
    "    if list1[i] >= list2[i]:\n",
    "        sum_of_differnce += (list1[i]-list2[i])\n",
    "    else:\n",
    "        sum_of_differnce += (list2[i]-list1[i])\n",
    "    \n",
    "print(sum_of_differnce)\n",
    "    "
   ]
  },
  {
   "cell_type": "code",
   "execution_count": 14,
   "id": "6e3b3204",
   "metadata": {},
   "outputs": [
    {
     "name": "stdout",
     "output_type": "stream",
     "text": [
      "23\n"
     ]
    }
   ],
   "source": [
    "#Assignment 1\n",
    "# Using Zip function\n",
    "\n",
    "list1 = [5,12,5,6,2,6,7,8]\n",
    "list2 = [6,4,3,8,1,2,4,6]\n",
    "sum_of_differnce = 0\n",
    "for i,j in zip(list1, list2):\n",
    "    if i >= j:\n",
    "        sum_of_differnce += (i-j)\n",
    "    else:\n",
    "        sum_of_differnce += (j-i)\n",
    "print(sum_of_differnce)"
   ]
  },
  {
   "cell_type": "code",
   "execution_count": null,
   "id": "5b664770",
   "metadata": {},
   "outputs": [],
   "source": []
  }
 ],
 "metadata": {
  "kernelspec": {
   "display_name": "Python 3",
   "language": "python",
   "name": "python3"
  },
  "language_info": {
   "codemirror_mode": {
    "name": "ipython",
    "version": 3
   },
   "file_extension": ".py",
   "mimetype": "text/x-python",
   "name": "python",
   "nbconvert_exporter": "python",
   "pygments_lexer": "ipython3",
   "version": "3.8.8"
  }
 },
 "nbformat": 4,
 "nbformat_minor": 5
}
