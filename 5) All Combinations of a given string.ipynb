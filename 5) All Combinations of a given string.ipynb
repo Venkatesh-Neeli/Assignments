{
 "cells": [
  {
   "cell_type": "markdown",
   "id": "db9d63d8",
   "metadata": {},
   "source": [
    "create a function, which takes string as argument, create all combinations\n",
    "\n",
    "Ex: abcdefg\n",
    "\n",
    "ans should be:\n",
    "\n",
    "a, ab, abc, abcd, abcde, abcdef, abcdefg,\n",
    "\n",
    " b, bc, bcd, bcde, bcdef, bcdefg,\n",
    " \n",
    " c, cd, cde, cdef, cdefg, \n",
    " \n",
    "d, de, def, defg, \n",
    "\n",
    "e, ef, efg,\n",
    "\n",
    " f, fg\n",
    " \n",
    " g\n",
    "\n",
    "\n",
    "Note: Do not use itertools combinations method . \n",
    "Do it Manually"
   ]
  },
  {
   "cell_type": "code",
   "execution_count": 20,
   "id": "c35cd142",
   "metadata": {},
   "outputs": [
    {
     "name": "stdout",
     "output_type": "stream",
     "text": [
      "a, ab, abc, abcd, abcde, abcdef, abcdefg, \n",
      "b, bc, bcd, bcde, bcdef, bcdefg, \n",
      "c, cd, cde, cdef, cdefg, \n",
      "d, de, def, defg, \n",
      "e, ef, efg, \n",
      "f, fg, \n",
      "g, \n"
     ]
    }
   ],
   "source": [
    "def combinations(string):\n",
    "    \"\"\"\n",
    "    This Function will print all combinations of a given string\n",
    "    \"\"\" \n",
    "    for i in range(len(string)):\n",
    "        for j in range(len(string)+1):\n",
    "            if i < j:\n",
    "                print(string[i:j], end=', ')\n",
    "        print()\n",
    "        \n",
    "combinations('abcdefg')"
   ]
  },
  {
   "cell_type": "code",
   "execution_count": null,
   "id": "2a13ab72",
   "metadata": {},
   "outputs": [],
   "source": []
  }
 ],
 "metadata": {
  "kernelspec": {
   "display_name": "Python 3",
   "language": "python",
   "name": "python3"
  },
  "language_info": {
   "codemirror_mode": {
    "name": "ipython",
    "version": 3
   },
   "file_extension": ".py",
   "mimetype": "text/x-python",
   "name": "python",
   "nbconvert_exporter": "python",
   "pygments_lexer": "ipython3",
   "version": "3.8.8"
  }
 },
 "nbformat": 4,
 "nbformat_minor": 5
}
