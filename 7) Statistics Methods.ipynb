{
 "cells": [
  {
   "cell_type": "markdown",
   "id": "3e326c1b",
   "metadata": {},
   "source": [
    "Create a pyhton class Statistics it can take any variable length of numbers create functions in class\n",
    "- mean\n",
    "- sum\n",
    "- median\n",
    "- min \n",
    "- max\n",
    "- range \n",
    "- mean absolute deviation \n",
    "- moment\n",
    "- standard deviation \n",
    "- skewness\n",
    "- kurtosis"
   ]
  },
  {
   "cell_type": "code",
   "execution_count": 86,
   "id": "f6bbd149",
   "metadata": {},
   "outputs": [],
   "source": [
    "class Statistics():\n",
    "    def __init__(self, nums):\n",
    "        self.nums = nums\n",
    "        \n",
    "    # Mean\n",
    "    def mean(self):\n",
    "        \"\"\"\n",
    "        Method to find Mean of a sequence\n",
    "        \"\"\"\n",
    "        return sum(self.nums)/len(self.nums)\n",
    "     \n",
    "    # Sum\n",
    "    def Sum(self):\n",
    "        \"\"\"\n",
    "        Method to find sum of numbers\n",
    "        \"\"\"\n",
    "        add = 0\n",
    "        for i in self.nums:\n",
    "            add += i\n",
    "        return add\n",
    "        \n",
    "    # median\n",
    "    def median(self):\n",
    "        \"\"\"\n",
    "        Method to find Median of given sequence\n",
    "        \"\"\"\n",
    "        sorted_nums = sorted(self.nums)\n",
    "        # If Odd\n",
    "        if len(sorted_nums)%2 != 0:\n",
    "            return self.nums[len(sorted_nums)//2]\n",
    "        \n",
    "        # If Even\n",
    "        else:\n",
    "            return (((sorted_nums[len(sorted_nums)//2 - 1]) + (sorted_nums[len(sorted_nums)//2]))/2)\n",
    "        \n",
    "    # Min\n",
    "    def Min(self):\n",
    "        \"\"\"\n",
    "        It will returns minimum value in a given series\n",
    "        \"\"\"\n",
    "        \n",
    "        sorted_nums = sorted(self.nums)\n",
    "        return sorted_nums[0]\n",
    "    \n",
    "    # Max \n",
    "    def Max(self):\n",
    "        \"\"\"\n",
    "        It will returns maximum value in a given series\n",
    "        \"\"\"\n",
    "        sorted_nums = sorted(self.nums)\n",
    "        return sorted_nums[-1]\n",
    "        \n",
    "    # range\n",
    "    def Range(self):\n",
    "        \"\"\"\n",
    "        It returns range of a Given series\n",
    "        \"\"\"\n",
    "        return self.Max() - self.Min()\n",
    "    \n",
    "    # Mean Absolute Deviation\n",
    "    def MAD(self):\n",
    "        \"\"\"\n",
    "        It will find Mean Absolute Deviation of a series\n",
    "        \"\"\"\n",
    "        Mean = self.mean()\n",
    "        subraction = list(map(lambda x: x-Mean, self.nums))\n",
    "        squares = [i*i for i in subraction]\n",
    "        return sum(squares)/len(self.nums)\n",
    "    \n",
    "    # Moments\n",
    "    def moments(self, r):\n",
    "        \"\"\"\n",
    "        Method to find rth moment \n",
    "        \"\"\"\n",
    "        self.r = r\n",
    "        Mean = self.mean()\n",
    "        subraction = list(map(lambda x: x-Mean, self.nums))\n",
    "        rth_power = [i**r for i in subraction]\n",
    "        return sum(rth_power)/len(self.nums)\n",
    "        \n",
    "        \n",
    "    # Standard Deviation \n",
    "    def standard_deviation(self):\n",
    "        \"\"\"\n",
    "        Method to calculate Standard Deviation\n",
    "        \"\"\"\n",
    "        variance = self.moments(2)\n",
    "        return variance**0.5\n",
    "    \n",
    "    # Skewness\n",
    "    def skewness(self):\n",
    "        \"\"\"\n",
    "        Method to find skewness\n",
    "        \"\"\"\n",
    "        Mean = self.mean()\n",
    "        Median = self.median()\n",
    "        Standard_Deviation = self.standard_deviation()\n",
    "        a = Mean - Median\n",
    "        Skewness = 3*a/Standard_Deviation\n",
    "        return Skewness\n",
    "    \n",
    "    # Kurtosis\n",
    "    def kurtosis(self):\n",
    "        \"\"\"\n",
    "        Method to find Kurtosis\n",
    "        \"\"\"\n",
    "        Forth_Moment = self.moments(4)\n",
    "        Variance = self.moments(2)\n",
    "        Kurtosis = Forth_Moment/Variance**2\n",
    "        return Kurtosis\n",
    "    \n",
    "    # Z-Score \n",
    "    def z_score(self):\n",
    "        \"\"\"\n",
    "        Method to find z-score of each point in the series\n",
    "        \"\"\"\n",
    "        Mean = self.mean()\n",
    "        Standard_Deviation = self.standard_deviation()\n",
    "        for x in self.nums:\n",
    "            Z_Score = (x - Mean)/Standard_Deviation\n",
    "            print(f'Z_Score for {x} is {Z_Score}')\n",
    "            \n",
    "    \n",
    "    \n",
    "obj = Statistics([1,2,3,4,5])"
   ]
  },
  {
   "cell_type": "code",
   "execution_count": 60,
   "id": "2419a491",
   "metadata": {},
   "outputs": [
    {
     "data": {
      "text/plain": [
       "3.0"
      ]
     },
     "execution_count": 60,
     "metadata": {},
     "output_type": "execute_result"
    }
   ],
   "source": [
    "obj.mean()"
   ]
  },
  {
   "cell_type": "code",
   "execution_count": 62,
   "id": "4227bc04",
   "metadata": {},
   "outputs": [
    {
     "data": {
      "text/plain": [
       "15"
      ]
     },
     "execution_count": 62,
     "metadata": {},
     "output_type": "execute_result"
    }
   ],
   "source": [
    "obj.Sum()"
   ]
  },
  {
   "cell_type": "code",
   "execution_count": 63,
   "id": "795653bc",
   "metadata": {},
   "outputs": [
    {
     "data": {
      "text/plain": [
       "3"
      ]
     },
     "execution_count": 63,
     "metadata": {},
     "output_type": "execute_result"
    }
   ],
   "source": [
    "obj.median()"
   ]
  },
  {
   "cell_type": "code",
   "execution_count": 64,
   "id": "1da23f09",
   "metadata": {},
   "outputs": [
    {
     "data": {
      "text/plain": [
       "1"
      ]
     },
     "execution_count": 64,
     "metadata": {},
     "output_type": "execute_result"
    }
   ],
   "source": [
    "obj.Min()"
   ]
  },
  {
   "cell_type": "code",
   "execution_count": 65,
   "id": "9c1ff6fe",
   "metadata": {},
   "outputs": [
    {
     "data": {
      "text/plain": [
       "5"
      ]
     },
     "execution_count": 65,
     "metadata": {},
     "output_type": "execute_result"
    }
   ],
   "source": [
    "obj.Max()"
   ]
  },
  {
   "cell_type": "code",
   "execution_count": 66,
   "id": "894f0f27",
   "metadata": {},
   "outputs": [
    {
     "data": {
      "text/plain": [
       "4"
      ]
     },
     "execution_count": 66,
     "metadata": {},
     "output_type": "execute_result"
    }
   ],
   "source": [
    "obj.Range()"
   ]
  },
  {
   "cell_type": "code",
   "execution_count": 67,
   "id": "24edd7fd",
   "metadata": {},
   "outputs": [
    {
     "data": {
      "text/plain": [
       "2.0"
      ]
     },
     "execution_count": 67,
     "metadata": {},
     "output_type": "execute_result"
    }
   ],
   "source": [
    "obj.MAD()"
   ]
  },
  {
   "cell_type": "code",
   "execution_count": 68,
   "id": "ea85852c",
   "metadata": {},
   "outputs": [
    {
     "data": {
      "text/plain": [
       "0.0"
      ]
     },
     "execution_count": 68,
     "metadata": {},
     "output_type": "execute_result"
    }
   ],
   "source": [
    "obj.moments(3)"
   ]
  },
  {
   "cell_type": "code",
   "execution_count": 69,
   "id": "511aacca",
   "metadata": {},
   "outputs": [
    {
     "data": {
      "text/plain": [
       "1.4142135623730951"
      ]
     },
     "execution_count": 69,
     "metadata": {},
     "output_type": "execute_result"
    }
   ],
   "source": [
    "obj.standard_deviation()"
   ]
  },
  {
   "cell_type": "code",
   "execution_count": 71,
   "id": "80cc137c",
   "metadata": {},
   "outputs": [
    {
     "data": {
      "text/plain": [
       "0.0"
      ]
     },
     "execution_count": 71,
     "metadata": {},
     "output_type": "execute_result"
    }
   ],
   "source": [
    "obj.skewness()"
   ]
  },
  {
   "cell_type": "code",
   "execution_count": 72,
   "id": "419a138b",
   "metadata": {},
   "outputs": [
    {
     "data": {
      "text/plain": [
       "1.7"
      ]
     },
     "execution_count": 72,
     "metadata": {},
     "output_type": "execute_result"
    }
   ],
   "source": [
    "obj.kurtosis()"
   ]
  },
  {
   "cell_type": "code",
   "execution_count": 88,
   "id": "92a2c373",
   "metadata": {},
   "outputs": [
    {
     "name": "stdout",
     "output_type": "stream",
     "text": [
      "Z_Score for 1 is -1.414213562373095\n",
      "Z_Score for 2 is -0.7071067811865475\n",
      "Z_Score for 3 is 0.0\n",
      "Z_Score for 4 is 0.7071067811865475\n",
      "Z_Score for 5 is 1.414213562373095\n"
     ]
    }
   ],
   "source": [
    "obj.z_score()"
   ]
  },
  {
   "cell_type": "code",
   "execution_count": null,
   "id": "44a58546",
   "metadata": {},
   "outputs": [],
   "source": []
  },
  {
   "cell_type": "code",
   "execution_count": null,
   "id": "e958adbf",
   "metadata": {},
   "outputs": [],
   "source": []
  },
  {
   "cell_type": "code",
   "execution_count": null,
   "id": "fb266883",
   "metadata": {},
   "outputs": [],
   "source": []
  }
 ],
 "metadata": {
  "kernelspec": {
   "display_name": "Python 3",
   "language": "python",
   "name": "python3"
  },
  "language_info": {
   "codemirror_mode": {
    "name": "ipython",
    "version": 3
   },
   "file_extension": ".py",
   "mimetype": "text/x-python",
   "name": "python",
   "nbconvert_exporter": "python",
   "pygments_lexer": "ipython3",
   "version": "3.8.8"
  }
 },
 "nbformat": 4,
 "nbformat_minor": 5
}
