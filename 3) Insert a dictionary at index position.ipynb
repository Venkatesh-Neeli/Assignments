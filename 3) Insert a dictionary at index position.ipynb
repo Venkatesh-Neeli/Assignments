{
 "cells": [
  {
   "cell_type": "markdown",
   "id": "913cc437",
   "metadata": {},
   "source": [
    "**Assignment 3**\n",
    "\n",
    "Create a Function, which takes three arguments, first argument should be dictionary, second argument should be integer, third argument should be another dictionary. \n",
    "Based on the integer value (consider this as index, which starts at 0), insert new dictionary values at index position in first dictionary, and return new dictionary.\n",
    "\n",
    "Ex:\n",
    "if {1:'One',2:'Two',3:'Three'}, 1, {4:'Four', 5:'Five', 6:'Six'} arguments are passed, \n",
    "\n",
    "Because index 1 is given third parameter should be inserted at 1st index. \n",
    " \n",
    "Note: Dictionary primary members are keys, not indexes, Dictionaries have no default insert method, so create one. \n",
    "\n",
    "result should be {1:'One', 4:'Four', 5:'Five', 6:'Six', 2:'Two', 3:'Three'}. \n",
    "\n",
    "If given number is greater than last index value of first dictionary, append new dictionary at the end of first dictionary."
   ]
  },
  {
   "cell_type": "code",
   "execution_count": 9,
   "id": "fb50298c",
   "metadata": {},
   "outputs": [
    {
     "data": {
      "text/plain": [
       "{1: 'One', 4: 'Four', 5: 'Five', 6: 'Six', 2: 'Two', 3: 'Three'}"
      ]
     },
     "execution_count": 9,
     "metadata": {},
     "output_type": "execute_result"
    }
   ],
   "source": [
    "def insert(dict1, a , dict2):\n",
    "    \"\"\"\n",
    "    This function inserts a dictionary in another dictionary based on index position, and gives required output\n",
    "    \"\"\"\n",
    "    new_dict = {}\n",
    "    if a > len(dict1)-1:\n",
    "        dict1.update(dict2)\n",
    "        return dict1\n",
    "    \n",
    "    else:\n",
    "        for i in range(a):\n",
    "            new_dict.update([list(dict1.items())[i]])\n",
    "        \n",
    "        new_dict.update(dict2)\n",
    "        \n",
    "        for i in range(a, len(dict1)):\n",
    "            new_dict.update([list(dict1.items())[i]])\n",
    "    return new_dict\n",
    "\n",
    "insert({1:'One',2:'Two',3:'Three'}, 1,{4:'Four', 5:'Five', 6:'Six'})"
   ]
  },
  {
   "cell_type": "code",
   "execution_count": null,
   "id": "9355083b",
   "metadata": {},
   "outputs": [],
   "source": []
  }
 ],
 "metadata": {
  "kernelspec": {
   "display_name": "Python 3",
   "language": "python",
   "name": "python3"
  },
  "language_info": {
   "codemirror_mode": {
    "name": "ipython",
    "version": 3
   },
   "file_extension": ".py",
   "mimetype": "text/x-python",
   "name": "python",
   "nbconvert_exporter": "python",
   "pygments_lexer": "ipython3",
   "version": "3.8.8"
  }
 },
 "nbformat": 4,
 "nbformat_minor": 5
}
