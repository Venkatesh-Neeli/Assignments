{
 "cells": [
  {
   "cell_type": "markdown",
   "id": "1c7d2d4b",
   "metadata": {},
   "source": [
    "**Assignment-4:**\n",
    "\n",
    "Create a Function which takes two lists as parameters, check whether two lists of same length, if not same length return not same lenght. otherwise sort the first list in ascending order and also sort the second list in liue of list 1\n",
    "\n",
    "Ex:\n",
    "Suppose l1 = [6,10,2,13,45,67,32,1] and l2 = [8,3,9,12,54,322,98,54]\n",
    "sort the first list in ascending order l1_sorted = [1,2,6,10,13,32,45,67]\n",
    "and list2 should be l2_updated as = [54,9,8,3,12,98,54, 322]\n",
    "\n",
    "Rules to update List 2:\n",
    "1. List2 element order should be according to l1_sorted index. \n",
    "2. First value in l1_sorted is 1, before sorting index of 1 is 7, so list2_updated first value is 54, which is 7th index before updating\n",
    "3. Second value in l1_sorted is 2, before sorting index of 2 is 2,  so list2_updated second value is 9 which is second index before updating\n",
    "4. Third value in l1_sorted is 6, before sorting index of 6 is 0, so list2_updated third value is 8 which is 0th index before updating. \n",
    "Similarly, update All the values of list2 by corresponding index values of list1 after sorting."
   ]
  },
  {
   "cell_type": "code",
   "execution_count": 32,
   "id": "8d461d85",
   "metadata": {},
   "outputs": [
    {
     "name": "stdout",
     "output_type": "stream",
     "text": [
      "l1 sorted list is [1, 2, 6, 10, 13, 32, 45, 67]\n",
      "l2 sorted list is [54, 9, 8, 3, 12, 98, 54, 322]\n"
     ]
    }
   ],
   "source": [
    "def sort(l1, l2):\n",
    "    \"\"\"\n",
    "    This function returns sorted lists of l1 and l2\n",
    "    \"\"\"\n",
    "    \n",
    "    sorted_l1 = []\n",
    "    updated_l2 = []\n",
    "    \n",
    "    if len(l1) != len(l2):\n",
    "        return \"Not Same Lenght\"\n",
    "    \n",
    "    else:\n",
    "        sorted_l1 = sorted(l1)\n",
    "        for i in sorted_l1:\n",
    "            updated_l2.append(l2[l1.index(i)])\n",
    "            \n",
    "    print(f'l1 sorted list is {sorted_l1}')\n",
    "    print(f'l2 sorted list is {updated_l2}')\n",
    "\n",
    "sort([6,10,2,13,45,67,32,1], [8,3,9,12,54,322,98,54])"
   ]
  },
  {
   "cell_type": "code",
   "execution_count": null,
   "id": "b912fad1",
   "metadata": {},
   "outputs": [],
   "source": []
  }
 ],
 "metadata": {
  "kernelspec": {
   "display_name": "Python 3",
   "language": "python",
   "name": "python3"
  },
  "language_info": {
   "codemirror_mode": {
    "name": "ipython",
    "version": 3
   },
   "file_extension": ".py",
   "mimetype": "text/x-python",
   "name": "python",
   "nbconvert_exporter": "python",
   "pygments_lexer": "ipython3",
   "version": "3.8.8"
  }
 },
 "nbformat": 4,
 "nbformat_minor": 5
}
